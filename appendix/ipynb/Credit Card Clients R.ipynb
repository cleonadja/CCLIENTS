{
 "cells": [
  {
   "cell_type": "code",
   "execution_count": 1,
   "metadata": {},
   "outputs": [],
   "source": [
    "credit_df = read.csv('../data/credit.csv')"
   ]
  },
  {
   "cell_type": "code",
   "execution_count": 2,
   "metadata": {},
   "outputs": [
    {
     "data": {
      "text/html": [
       "<table>\n",
       "<thead><tr><th scope=col>ID</th><th scope=col>LIMIT_BAL</th><th scope=col>SEX</th><th scope=col>EDUCATION</th><th scope=col>MARRIAGE</th><th scope=col>AGE</th><th scope=col>PAY_0</th><th scope=col>PAY_2</th><th scope=col>PAY_3</th><th scope=col>PAY_4</th><th scope=col>⋯</th><th scope=col>BILL_AMT4</th><th scope=col>BILL_AMT5</th><th scope=col>BILL_AMT6</th><th scope=col>PAY_AMT1</th><th scope=col>PAY_AMT2</th><th scope=col>PAY_AMT3</th><th scope=col>PAY_AMT4</th><th scope=col>PAY_AMT5</th><th scope=col>PAY_AMT6</th><th scope=col>default.payment.next.month</th></tr></thead>\n",
       "<tbody>\n",
       "\t<tr><td>1     </td><td> 20000</td><td>2     </td><td>2     </td><td>1     </td><td>24    </td><td> 2    </td><td>2     </td><td>-1    </td><td>-1    </td><td>⋯     </td><td>    0 </td><td>    0 </td><td>    0 </td><td>   0  </td><td>  689 </td><td>    0 </td><td>   0  </td><td>   0  </td><td>   0  </td><td>1     </td></tr>\n",
       "\t<tr><td>2     </td><td>120000</td><td>2     </td><td>2     </td><td>2     </td><td>26    </td><td>-1    </td><td>2     </td><td> 0    </td><td> 0    </td><td>⋯     </td><td> 3272 </td><td> 3455 </td><td> 3261 </td><td>   0  </td><td> 1000 </td><td> 1000 </td><td>1000  </td><td>   0  </td><td>2000  </td><td>1     </td></tr>\n",
       "\t<tr><td>3     </td><td> 90000</td><td>2     </td><td>2     </td><td>2     </td><td>34    </td><td> 0    </td><td>0     </td><td> 0    </td><td> 0    </td><td>⋯     </td><td>14331 </td><td>14948 </td><td>15549 </td><td>1518  </td><td> 1500 </td><td> 1000 </td><td>1000  </td><td>1000  </td><td>5000  </td><td>0     </td></tr>\n",
       "\t<tr><td>4     </td><td> 50000</td><td>2     </td><td>2     </td><td>1     </td><td>37    </td><td> 0    </td><td>0     </td><td> 0    </td><td> 0    </td><td>⋯     </td><td>28314 </td><td>28959 </td><td>29547 </td><td>2000  </td><td> 2019 </td><td> 1200 </td><td>1100  </td><td>1069  </td><td>1000  </td><td>0     </td></tr>\n",
       "\t<tr><td>5     </td><td> 50000</td><td>1     </td><td>2     </td><td>1     </td><td>57    </td><td>-1    </td><td>0     </td><td>-1    </td><td> 0    </td><td>⋯     </td><td>20940 </td><td>19146 </td><td>19131 </td><td>2000  </td><td>36681 </td><td>10000 </td><td>9000  </td><td> 689  </td><td> 679  </td><td>0     </td></tr>\n",
       "\t<tr><td>6     </td><td> 50000</td><td>1     </td><td>1     </td><td>2     </td><td>37    </td><td> 0    </td><td>0     </td><td> 0    </td><td> 0    </td><td>⋯     </td><td>19394 </td><td>19619 </td><td>20024 </td><td>2500  </td><td> 1815 </td><td>  657 </td><td>1000  </td><td>1000  </td><td> 800  </td><td>0     </td></tr>\n",
       "</tbody>\n",
       "</table>\n"
      ],
      "text/latex": [
       "\\begin{tabular}{r|lllllllllllllllllllllllll}\n",
       " ID & LIMIT\\_BAL & SEX & EDUCATION & MARRIAGE & AGE & PAY\\_0 & PAY\\_2 & PAY\\_3 & PAY\\_4 & ⋯ & BILL\\_AMT4 & BILL\\_AMT5 & BILL\\_AMT6 & PAY\\_AMT1 & PAY\\_AMT2 & PAY\\_AMT3 & PAY\\_AMT4 & PAY\\_AMT5 & PAY\\_AMT6 & default.payment.next.month\\\\\n",
       "\\hline\n",
       "\t 1      &  20000 & 2      & 2      & 1      & 24     &  2     & 2      & -1     & -1     & ⋯      &     0  &     0  &     0  &    0   &   689  &     0  &    0   &    0   &    0   & 1     \\\\\n",
       "\t 2      & 120000 & 2      & 2      & 2      & 26     & -1     & 2      &  0     &  0     & ⋯      &  3272  &  3455  &  3261  &    0   &  1000  &  1000  & 1000   &    0   & 2000   & 1     \\\\\n",
       "\t 3      &  90000 & 2      & 2      & 2      & 34     &  0     & 0      &  0     &  0     & ⋯      & 14331  & 14948  & 15549  & 1518   &  1500  &  1000  & 1000   & 1000   & 5000   & 0     \\\\\n",
       "\t 4      &  50000 & 2      & 2      & 1      & 37     &  0     & 0      &  0     &  0     & ⋯      & 28314  & 28959  & 29547  & 2000   &  2019  &  1200  & 1100   & 1069   & 1000   & 0     \\\\\n",
       "\t 5      &  50000 & 1      & 2      & 1      & 57     & -1     & 0      & -1     &  0     & ⋯      & 20940  & 19146  & 19131  & 2000   & 36681  & 10000  & 9000   &  689   &  679   & 0     \\\\\n",
       "\t 6      &  50000 & 1      & 1      & 2      & 37     &  0     & 0      &  0     &  0     & ⋯      & 19394  & 19619  & 20024  & 2500   &  1815  &   657  & 1000   & 1000   &  800   & 0     \\\\\n",
       "\\end{tabular}\n"
      ],
      "text/markdown": [
       "\n",
       "ID | LIMIT_BAL | SEX | EDUCATION | MARRIAGE | AGE | PAY_0 | PAY_2 | PAY_3 | PAY_4 | ⋯ | BILL_AMT4 | BILL_AMT5 | BILL_AMT6 | PAY_AMT1 | PAY_AMT2 | PAY_AMT3 | PAY_AMT4 | PAY_AMT5 | PAY_AMT6 | default.payment.next.month | \n",
       "|---|---|---|---|---|---|\n",
       "| 1      |  20000 | 2      | 2      | 1      | 24     |  2     | 2      | -1     | -1     | ⋯      |     0  |     0  |     0  |    0   |   689  |     0  |    0   |    0   |    0   | 1      | \n",
       "| 2      | 120000 | 2      | 2      | 2      | 26     | -1     | 2      |  0     |  0     | ⋯      |  3272  |  3455  |  3261  |    0   |  1000  |  1000  | 1000   |    0   | 2000   | 1      | \n",
       "| 3      |  90000 | 2      | 2      | 2      | 34     |  0     | 0      |  0     |  0     | ⋯      | 14331  | 14948  | 15549  | 1518   |  1500  |  1000  | 1000   | 1000   | 5000   | 0      | \n",
       "| 4      |  50000 | 2      | 2      | 1      | 37     |  0     | 0      |  0     |  0     | ⋯      | 28314  | 28959  | 29547  | 2000   |  2019  |  1200  | 1100   | 1069   | 1000   | 0      | \n",
       "| 5      |  50000 | 1      | 2      | 1      | 57     | -1     | 0      | -1     |  0     | ⋯      | 20940  | 19146  | 19131  | 2000   | 36681  | 10000  | 9000   |  689   |  679   | 0      | \n",
       "| 6      |  50000 | 1      | 1      | 2      | 37     |  0     | 0      |  0     |  0     | ⋯      | 19394  | 19619  | 20024  | 2500   |  1815  |   657  | 1000   | 1000   |  800   | 0      | \n",
       "\n",
       "\n"
      ],
      "text/plain": [
       "  ID LIMIT_BAL SEX EDUCATION MARRIAGE AGE PAY_0 PAY_2 PAY_3 PAY_4 ⋯ BILL_AMT4\n",
       "1 1   20000    2   2         1        24   2    2     -1    -1    ⋯     0    \n",
       "2 2  120000    2   2         2        26  -1    2      0     0    ⋯  3272    \n",
       "3 3   90000    2   2         2        34   0    0      0     0    ⋯ 14331    \n",
       "4 4   50000    2   2         1        37   0    0      0     0    ⋯ 28314    \n",
       "5 5   50000    1   2         1        57  -1    0     -1     0    ⋯ 20940    \n",
       "6 6   50000    1   1         2        37   0    0      0     0    ⋯ 19394    \n",
       "  BILL_AMT5 BILL_AMT6 PAY_AMT1 PAY_AMT2 PAY_AMT3 PAY_AMT4 PAY_AMT5 PAY_AMT6\n",
       "1     0         0        0       689        0       0        0        0    \n",
       "2  3455      3261        0      1000     1000    1000        0     2000    \n",
       "3 14948     15549     1518      1500     1000    1000     1000     5000    \n",
       "4 28959     29547     2000      2019     1200    1100     1069     1000    \n",
       "5 19146     19131     2000     36681    10000    9000      689      679    \n",
       "6 19619     20024     2500      1815      657    1000     1000      800    \n",
       "  default.payment.next.month\n",
       "1 1                         \n",
       "2 1                         \n",
       "3 0                         \n",
       "4 0                         \n",
       "5 0                         \n",
       "6 0                         "
      ]
     },
     "metadata": {},
     "output_type": "display_data"
    }
   ],
   "source": [
    "head(credit_df)"
   ]
  },
  {
   "cell_type": "code",
   "execution_count": 3,
   "metadata": {},
   "outputs": [],
   "source": [
    "colnames(credit_df)[colnames(credit_df)==\"default.payment.next.month\"] <- \"DEFAULT\""
   ]
  },
  {
   "cell_type": "code",
   "execution_count": 4,
   "metadata": {},
   "outputs": [
    {
     "data": {
      "text/html": [
       "<table>\n",
       "<thead><tr><th scope=col>ID</th><th scope=col>LIMIT_BAL</th><th scope=col>SEX</th><th scope=col>EDUCATION</th><th scope=col>MARRIAGE</th><th scope=col>AGE</th><th scope=col>PAY_0</th><th scope=col>PAY_2</th><th scope=col>PAY_3</th><th scope=col>PAY_4</th><th scope=col>⋯</th><th scope=col>BILL_AMT4</th><th scope=col>BILL_AMT5</th><th scope=col>BILL_AMT6</th><th scope=col>PAY_AMT1</th><th scope=col>PAY_AMT2</th><th scope=col>PAY_AMT3</th><th scope=col>PAY_AMT4</th><th scope=col>PAY_AMT5</th><th scope=col>PAY_AMT6</th><th scope=col>DEFAULT</th></tr></thead>\n",
       "<tbody>\n",
       "\t<tr><td>1     </td><td> 20000</td><td>2     </td><td>2     </td><td>1     </td><td>24    </td><td> 2    </td><td>2     </td><td>-1    </td><td>-1    </td><td>⋯     </td><td>    0 </td><td>    0 </td><td>    0 </td><td>   0  </td><td>  689 </td><td>    0 </td><td>   0  </td><td>   0  </td><td>   0  </td><td>1     </td></tr>\n",
       "\t<tr><td>2     </td><td>120000</td><td>2     </td><td>2     </td><td>2     </td><td>26    </td><td>-1    </td><td>2     </td><td> 0    </td><td> 0    </td><td>⋯     </td><td> 3272 </td><td> 3455 </td><td> 3261 </td><td>   0  </td><td> 1000 </td><td> 1000 </td><td>1000  </td><td>   0  </td><td>2000  </td><td>1     </td></tr>\n",
       "\t<tr><td>3     </td><td> 90000</td><td>2     </td><td>2     </td><td>2     </td><td>34    </td><td> 0    </td><td>0     </td><td> 0    </td><td> 0    </td><td>⋯     </td><td>14331 </td><td>14948 </td><td>15549 </td><td>1518  </td><td> 1500 </td><td> 1000 </td><td>1000  </td><td>1000  </td><td>5000  </td><td>0     </td></tr>\n",
       "\t<tr><td>4     </td><td> 50000</td><td>2     </td><td>2     </td><td>1     </td><td>37    </td><td> 0    </td><td>0     </td><td> 0    </td><td> 0    </td><td>⋯     </td><td>28314 </td><td>28959 </td><td>29547 </td><td>2000  </td><td> 2019 </td><td> 1200 </td><td>1100  </td><td>1069  </td><td>1000  </td><td>0     </td></tr>\n",
       "\t<tr><td>5     </td><td> 50000</td><td>1     </td><td>2     </td><td>1     </td><td>57    </td><td>-1    </td><td>0     </td><td>-1    </td><td> 0    </td><td>⋯     </td><td>20940 </td><td>19146 </td><td>19131 </td><td>2000  </td><td>36681 </td><td>10000 </td><td>9000  </td><td> 689  </td><td> 679  </td><td>0     </td></tr>\n",
       "\t<tr><td>6     </td><td> 50000</td><td>1     </td><td>1     </td><td>2     </td><td>37    </td><td> 0    </td><td>0     </td><td> 0    </td><td> 0    </td><td>⋯     </td><td>19394 </td><td>19619 </td><td>20024 </td><td>2500  </td><td> 1815 </td><td>  657 </td><td>1000  </td><td>1000  </td><td> 800  </td><td>0     </td></tr>\n",
       "</tbody>\n",
       "</table>\n"
      ],
      "text/latex": [
       "\\begin{tabular}{r|lllllllllllllllllllllllll}\n",
       " ID & LIMIT\\_BAL & SEX & EDUCATION & MARRIAGE & AGE & PAY\\_0 & PAY\\_2 & PAY\\_3 & PAY\\_4 & ⋯ & BILL\\_AMT4 & BILL\\_AMT5 & BILL\\_AMT6 & PAY\\_AMT1 & PAY\\_AMT2 & PAY\\_AMT3 & PAY\\_AMT4 & PAY\\_AMT5 & PAY\\_AMT6 & DEFAULT\\\\\n",
       "\\hline\n",
       "\t 1      &  20000 & 2      & 2      & 1      & 24     &  2     & 2      & -1     & -1     & ⋯      &     0  &     0  &     0  &    0   &   689  &     0  &    0   &    0   &    0   & 1     \\\\\n",
       "\t 2      & 120000 & 2      & 2      & 2      & 26     & -1     & 2      &  0     &  0     & ⋯      &  3272  &  3455  &  3261  &    0   &  1000  &  1000  & 1000   &    0   & 2000   & 1     \\\\\n",
       "\t 3      &  90000 & 2      & 2      & 2      & 34     &  0     & 0      &  0     &  0     & ⋯      & 14331  & 14948  & 15549  & 1518   &  1500  &  1000  & 1000   & 1000   & 5000   & 0     \\\\\n",
       "\t 4      &  50000 & 2      & 2      & 1      & 37     &  0     & 0      &  0     &  0     & ⋯      & 28314  & 28959  & 29547  & 2000   &  2019  &  1200  & 1100   & 1069   & 1000   & 0     \\\\\n",
       "\t 5      &  50000 & 1      & 2      & 1      & 57     & -1     & 0      & -1     &  0     & ⋯      & 20940  & 19146  & 19131  & 2000   & 36681  & 10000  & 9000   &  689   &  679   & 0     \\\\\n",
       "\t 6      &  50000 & 1      & 1      & 2      & 37     &  0     & 0      &  0     &  0     & ⋯      & 19394  & 19619  & 20024  & 2500   &  1815  &   657  & 1000   & 1000   &  800   & 0     \\\\\n",
       "\\end{tabular}\n"
      ],
      "text/markdown": [
       "\n",
       "ID | LIMIT_BAL | SEX | EDUCATION | MARRIAGE | AGE | PAY_0 | PAY_2 | PAY_3 | PAY_4 | ⋯ | BILL_AMT4 | BILL_AMT5 | BILL_AMT6 | PAY_AMT1 | PAY_AMT2 | PAY_AMT3 | PAY_AMT4 | PAY_AMT5 | PAY_AMT6 | DEFAULT | \n",
       "|---|---|---|---|---|---|\n",
       "| 1      |  20000 | 2      | 2      | 1      | 24     |  2     | 2      | -1     | -1     | ⋯      |     0  |     0  |     0  |    0   |   689  |     0  |    0   |    0   |    0   | 1      | \n",
       "| 2      | 120000 | 2      | 2      | 2      | 26     | -1     | 2      |  0     |  0     | ⋯      |  3272  |  3455  |  3261  |    0   |  1000  |  1000  | 1000   |    0   | 2000   | 1      | \n",
       "| 3      |  90000 | 2      | 2      | 2      | 34     |  0     | 0      |  0     |  0     | ⋯      | 14331  | 14948  | 15549  | 1518   |  1500  |  1000  | 1000   | 1000   | 5000   | 0      | \n",
       "| 4      |  50000 | 2      | 2      | 1      | 37     |  0     | 0      |  0     |  0     | ⋯      | 28314  | 28959  | 29547  | 2000   |  2019  |  1200  | 1100   | 1069   | 1000   | 0      | \n",
       "| 5      |  50000 | 1      | 2      | 1      | 57     | -1     | 0      | -1     |  0     | ⋯      | 20940  | 19146  | 19131  | 2000   | 36681  | 10000  | 9000   |  689   |  679   | 0      | \n",
       "| 6      |  50000 | 1      | 1      | 2      | 37     |  0     | 0      |  0     |  0     | ⋯      | 19394  | 19619  | 20024  | 2500   |  1815  |   657  | 1000   | 1000   |  800   | 0      | \n",
       "\n",
       "\n"
      ],
      "text/plain": [
       "  ID LIMIT_BAL SEX EDUCATION MARRIAGE AGE PAY_0 PAY_2 PAY_3 PAY_4 ⋯ BILL_AMT4\n",
       "1 1   20000    2   2         1        24   2    2     -1    -1    ⋯     0    \n",
       "2 2  120000    2   2         2        26  -1    2      0     0    ⋯  3272    \n",
       "3 3   90000    2   2         2        34   0    0      0     0    ⋯ 14331    \n",
       "4 4   50000    2   2         1        37   0    0      0     0    ⋯ 28314    \n",
       "5 5   50000    1   2         1        57  -1    0     -1     0    ⋯ 20940    \n",
       "6 6   50000    1   1         2        37   0    0      0     0    ⋯ 19394    \n",
       "  BILL_AMT5 BILL_AMT6 PAY_AMT1 PAY_AMT2 PAY_AMT3 PAY_AMT4 PAY_AMT5 PAY_AMT6\n",
       "1     0         0        0       689        0       0        0        0    \n",
       "2  3455      3261        0      1000     1000    1000        0     2000    \n",
       "3 14948     15549     1518      1500     1000    1000     1000     5000    \n",
       "4 28959     29547     2000      2019     1200    1100     1069     1000    \n",
       "5 19146     19131     2000     36681    10000    9000      689      679    \n",
       "6 19619     20024     2500      1815      657    1000     1000      800    \n",
       "  DEFAULT\n",
       "1 1      \n",
       "2 1      \n",
       "3 0      \n",
       "4 0      \n",
       "5 0      \n",
       "6 0      "
      ]
     },
     "metadata": {},
     "output_type": "display_data"
    }
   ],
   "source": [
    "head(credit_df)"
   ]
  },
  {
   "cell_type": "code",
   "execution_count": 5,
   "metadata": {},
   "outputs": [],
   "source": [
    "attach(credit_df)"
   ]
  },
  {
   "cell_type": "code",
   "execution_count": 14,
   "metadata": {},
   "outputs": [
    {
     "data": {
      "image/png": "[encoded data removed]",
      "text/plain": [
       "Plot with title “Histogram of MARRIAGE”"
      ]
     },
     "metadata": {},
     "output_type": "display_data",
     "source": "R display func"
    }
   ],
   "source": [
    "library(repr); options(repr.plot.width=10, repr.plot.height=3)\n",
    "par(mfrow = c(1,4))\n",
    "hist(SEX)\n",
    "hist(AGE)\n",
    "hist(EDUCATION)\n",
    "hist(MARRIAGE)"
   ]
  },
  {
   "cell_type": "code",
   "execution_count": 7,
   "metadata": {},
   "outputs": [],
   "source": [
    "credit_df_num <- Filter(is.numeric, credit_df)"
   ]
  },
  {
   "cell_type": "code",
   "execution_count": null,
   "metadata": {},
   "outputs": [],
   "source": [
    "options(repr.plot.width=10, repr.plot.height=12)\n",
    "pairs(credit_df_num)"
   ]
  },
  {
   "cell_type": "code",
   "execution_count": 15,
   "metadata": {},
   "outputs": [
    {
     "data": {
      "text/html": [
       "<table>\n",
       "<tbody>\n",
       "\t<tr><th scope=row>ID</th><td>-0.013951955</td></tr>\n",
       "\t<tr><th scope=row>LIMIT_BAL</th><td>-0.153519876</td></tr>\n",
       "\t<tr><th scope=row>SEX</th><td>-0.039960578</td></tr>\n",
       "\t<tr><th scope=row>EDUCATION</th><td> 0.028006078</td></tr>\n",
       "\t<tr><th scope=row>MARRIAGE</th><td>-0.024339216</td></tr>\n",
       "\t<tr><th scope=row>AGE</th><td> 0.013889834</td></tr>\n",
       "\t<tr><th scope=row>PAY_0</th><td> 0.324793728</td></tr>\n",
       "\t<tr><th scope=row>PAY_2</th><td> 0.263551202</td></tr>\n",
       "\t<tr><th scope=row>PAY_3</th><td> 0.235252514</td></tr>\n",
       "\t<tr><th scope=row>PAY_4</th><td> 0.216613637</td></tr>\n",
       "\t<tr><th scope=row>PAY_5</th><td> 0.204148914</td></tr>\n",
       "\t<tr><th scope=row>PAY_6</th><td> 0.186866362</td></tr>\n",
       "\t<tr><th scope=row>BILL_AMT1</th><td>-0.019644197</td></tr>\n",
       "\t<tr><th scope=row>BILL_AMT2</th><td>-0.014193218</td></tr>\n",
       "\t<tr><th scope=row>BILL_AMT3</th><td>-0.014075518</td></tr>\n",
       "\t<tr><th scope=row>BILL_AMT4</th><td>-0.010156496</td></tr>\n",
       "\t<tr><th scope=row>BILL_AMT5</th><td>-0.006760464</td></tr>\n",
       "\t<tr><th scope=row>BILL_AMT6</th><td>-0.005372315</td></tr>\n",
       "\t<tr><th scope=row>PAY_AMT1</th><td>-0.072929488</td></tr>\n",
       "\t<tr><th scope=row>PAY_AMT2</th><td>-0.058578707</td></tr>\n",
       "\t<tr><th scope=row>PAY_AMT3</th><td>-0.056250351</td></tr>\n",
       "\t<tr><th scope=row>PAY_AMT4</th><td>-0.056827401</td></tr>\n",
       "\t<tr><th scope=row>PAY_AMT5</th><td>-0.055123516</td></tr>\n",
       "\t<tr><th scope=row>PAY_AMT6</th><td>-0.053183340</td></tr>\n",
       "\t<tr><th scope=row>DEFAULT</th><td> 1.000000000</td></tr>\n",
       "</tbody>\n",
       "</table>\n"
      ],
      "text/latex": [
       "\\begin{tabular}{r|l}\n",
       "\tID & -0.013951955\\\\\n",
       "\tLIMIT\\_BAL & -0.153519876\\\\\n",
       "\tSEX & -0.039960578\\\\\n",
       "\tEDUCATION &  0.028006078\\\\\n",
       "\tMARRIAGE & -0.024339216\\\\\n",
       "\tAGE &  0.013889834\\\\\n",
       "\tPAY\\_0 &  0.324793728\\\\\n",
       "\tPAY\\_2 &  0.263551202\\\\\n",
       "\tPAY\\_3 &  0.235252514\\\\\n",
       "\tPAY\\_4 &  0.216613637\\\\\n",
       "\tPAY\\_5 &  0.204148914\\\\\n",
       "\tPAY\\_6 &  0.186866362\\\\\n",
       "\tBILL\\_AMT1 & -0.019644197\\\\\n",
       "\tBILL\\_AMT2 & -0.014193218\\\\\n",
       "\tBILL\\_AMT3 & -0.014075518\\\\\n",
       "\tBILL\\_AMT4 & -0.010156496\\\\\n",
       "\tBILL\\_AMT5 & -0.006760464\\\\\n",
       "\tBILL\\_AMT6 & -0.005372315\\\\\n",
       "\tPAY\\_AMT1 & -0.072929488\\\\\n",
       "\tPAY\\_AMT2 & -0.058578707\\\\\n",
       "\tPAY\\_AMT3 & -0.056250351\\\\\n",
       "\tPAY\\_AMT4 & -0.056827401\\\\\n",
       "\tPAY\\_AMT5 & -0.055123516\\\\\n",
       "\tPAY\\_AMT6 & -0.053183340\\\\\n",
       "\tDEFAULT &  1.000000000\\\\\n",
       "\\end{tabular}\n"
      ],
      "text/markdown": [
       "\n",
       "| ID | -0.013951955 | \n",
       "| LIMIT_BAL | -0.153519876 | \n",
       "| SEX | -0.039960578 | \n",
       "| EDUCATION |  0.028006078 | \n",
       "| MARRIAGE | -0.024339216 | \n",
       "| AGE |  0.013889834 | \n",
       "| PAY_0 |  0.324793728 | \n",
       "| PAY_2 |  0.263551202 | \n",
       "| PAY_3 |  0.235252514 | \n",
       "| PAY_4 |  0.216613637 | \n",
       "| PAY_5 |  0.204148914 | \n",
       "| PAY_6 |  0.186866362 | \n",
       "| BILL_AMT1 | -0.019644197 | \n",
       "| BILL_AMT2 | -0.014193218 | \n",
       "| BILL_AMT3 | -0.014075518 | \n",
       "| BILL_AMT4 | -0.010156496 | \n",
       "| BILL_AMT5 | -0.006760464 | \n",
       "| BILL_AMT6 | -0.005372315 | \n",
       "| PAY_AMT1 | -0.072929488 | \n",
       "| PAY_AMT2 | -0.058578707 | \n",
       "| PAY_AMT3 | -0.056250351 | \n",
       "| PAY_AMT4 | -0.056827401 | \n",
       "| PAY_AMT5 | -0.055123516 | \n",
       "| PAY_AMT6 | -0.053183340 | \n",
       "| DEFAULT |  1.000000000 | \n",
       "\n",
       "\n"
      ],
      "text/plain": [
       "          [,1]        \n",
       "ID        -0.013951955\n",
       "LIMIT_BAL -0.153519876\n",
       "SEX       -0.039960578\n",
       "EDUCATION  0.028006078\n",
       "MARRIAGE  -0.024339216\n",
       "AGE        0.013889834\n",
       "PAY_0      0.324793728\n",
       "PAY_2      0.263551202\n",
       "PAY_3      0.235252514\n",
       "PAY_4      0.216613637\n",
       "PAY_5      0.204148914\n",
       "PAY_6      0.186866362\n",
       "BILL_AMT1 -0.019644197\n",
       "BILL_AMT2 -0.014193218\n",
       "BILL_AMT3 -0.014075518\n",
       "BILL_AMT4 -0.010156496\n",
       "BILL_AMT5 -0.006760464\n",
       "BILL_AMT6 -0.005372315\n",
       "PAY_AMT1  -0.072929488\n",
       "PAY_AMT2  -0.058578707\n",
       "PAY_AMT3  -0.056250351\n",
       "PAY_AMT4  -0.056827401\n",
       "PAY_AMT5  -0.055123516\n",
       "PAY_AMT6  -0.053183340\n",
       "DEFAULT    1.000000000"
      ]
     },
     "metadata": {},
     "output_type": "display_data"
    }
   ],
   "source": [
    "cor(credit_df_num, DEFAULT)"
   ]
  },
  {
   "cell_type": "code",
   "execution_count": 23,
   "metadata": {},
   "outputs": [
    {
     "data": {
      "text/plain": [
       "   DEFAULT\n",
       "SEX         0         1\n",
       "  1 0.7583277 0.2416723\n",
       "  2 0.7922372 0.2077628"
      ]
     },
     "metadata": {},
     "output_type": "display_data"
    },
    {
     "data": {
      "text/plain": [
       "         DEFAULT\n",
       "EDUCATION          0          1\n",
       "        0 1.00000000 0.00000000\n",
       "        1 0.80765234 0.19234766\n",
       "        2 0.76265146 0.23734854\n",
       "        3 0.74842384 0.25157616\n",
       "        4 0.94308943 0.05691057\n",
       "        5 0.93571429 0.06428571\n",
       "        6 0.84313725 0.15686275"
      ]
     },
     "metadata": {},
     "output_type": "display_data"
    },
    {
     "data": {
      "text/plain": [
       "        DEFAULT\n",
       "MARRIAGE          0          1\n",
       "       0 0.90740741 0.09259259\n",
       "       1 0.76528296 0.23471704\n",
       "       2 0.79071661 0.20928339\n",
       "       3 0.73993808 0.26006192"
      ]
     },
     "metadata": {},
     "output_type": "display_data"
    }
   ],
   "source": [
    "options(mfrow = c(1,4))\n",
    "prop.table(table(SEX, DEFAULT), 1);prop.table(table(EDUCATION, DEFAULT),1); prop.table(table(MARRIAGE, DEFAULT),1)"
   ]
  },
  {
   "cell_type": "code",
   "execution_count": 24,
   "metadata": {},
   "outputs": [
    {
     "data": {
      "text/plain": [
       "    DEFAULT\n",
       "AGE          0         1\n",
       "  21 0.7910448 0.2089552\n",
       "  22 0.6982143 0.3017857\n",
       "  23 0.7346939 0.2653061\n",
       "  24 0.7338066 0.2661934\n",
       "  25 0.7453626 0.2546374\n",
       "  26 0.7985669 0.2014331\n",
       "  27 0.7880840 0.2119160\n",
       "  28 0.7970192 0.2029808\n",
       "  29 0.8049844 0.1950156\n",
       "  30 0.8035842 0.1964158\n",
       "  31 0.8118324 0.1881676\n",
       "  32 0.8056995 0.1943005\n",
       "  33 0.8123909 0.1876091\n",
       "  34 0.8012048 0.1987952\n",
       "  35 0.7969452 0.2030548\n",
       "  36 0.7707581 0.2292419\n",
       "  37 0.7800192 0.2199808\n",
       "  38 0.7944915 0.2055085\n",
       "  39 0.7914046 0.2085954\n",
       "  40 0.7850575 0.2149425\n",
       "  41 0.7754854 0.2245146\n",
       "  42 0.7670025 0.2329975\n",
       "  43 0.7761194 0.2238806\n",
       "  44 0.7685714 0.2314286\n",
       "  45 0.8119935 0.1880065\n",
       "  46 0.7245614 0.2754386\n",
       "  47 0.7604790 0.2395210\n",
       "  48 0.7768240 0.2231760\n",
       "  49 0.7367257 0.2632743\n",
       "  50 0.7542579 0.2457421\n",
       "  51 0.7411765 0.2588235\n",
       "  52 0.7434211 0.2565789\n",
       "  53 0.7723077 0.2276923\n",
       "  54 0.7732794 0.2267206\n",
       "  55 0.7272727 0.2727273\n",
       "  56 0.7247191 0.2752809\n",
       "  57 0.7786885 0.2213115\n",
       "  58 0.7459016 0.2540984\n",
       "  59 0.7469880 0.2530120\n",
       "  60 0.6567164 0.3432836\n",
       "  61 0.6250000 0.3750000\n",
       "  62 0.8409091 0.1590909\n",
       "  63 0.7419355 0.2580645\n",
       "  64 0.7096774 0.2903226\n",
       "  65 0.7916667 0.2083333\n",
       "  66 0.7200000 0.2800000\n",
       "  67 0.6875000 0.3125000\n",
       "  68 0.8000000 0.2000000\n",
       "  69 0.8000000 0.2000000\n",
       "  70 0.8000000 0.2000000\n",
       "  71 1.0000000 0.0000000\n",
       "  72 0.6666667 0.3333333\n",
       "  73 0.2500000 0.7500000\n",
       "  74 1.0000000 0.0000000\n",
       "  75 0.6666667 0.3333333\n",
       "  79 1.0000000 0.0000000"
      ]
     },
     "metadata": {},
     "output_type": "display_data"
    }
   ],
   "source": [
    "prop.table(table(AGE, DEFAULT), 1)"
   ]
  },
  {
   "cell_type": "code",
   "execution_count": 12,
   "metadata": {},
   "outputs": [
    {
     "data": {
      "text/plain": [
       "       ID          LIMIT_BAL            SEX          EDUCATION    \n",
       " Min.   :    1   Min.   :  10000   Min.   :1.000   Min.   :0.000  \n",
       " 1st Qu.: 7501   1st Qu.:  50000   1st Qu.:1.000   1st Qu.:1.000  \n",
       " Median :15000   Median : 140000   Median :2.000   Median :2.000  \n",
       " Mean   :15000   Mean   : 167484   Mean   :1.604   Mean   :1.853  \n",
       " 3rd Qu.:22500   3rd Qu.: 240000   3rd Qu.:2.000   3rd Qu.:2.000  \n",
       " Max.   :30000   Max.   :1000000   Max.   :2.000   Max.   :6.000  \n",
       "    MARRIAGE          AGE            PAY_0             PAY_2        \n",
       " Min.   :0.000   Min.   :21.00   Min.   :-2.0000   Min.   :-2.0000  \n",
       " 1st Qu.:1.000   1st Qu.:28.00   1st Qu.:-1.0000   1st Qu.:-1.0000  \n",
       " Median :2.000   Median :34.00   Median : 0.0000   Median : 0.0000  \n",
       " Mean   :1.552   Mean   :35.49   Mean   :-0.0167   Mean   :-0.1338  \n",
       " 3rd Qu.:2.000   3rd Qu.:41.00   3rd Qu.: 0.0000   3rd Qu.: 0.0000  \n",
       " Max.   :3.000   Max.   :79.00   Max.   : 8.0000   Max.   : 8.0000  \n",
       "     PAY_3             PAY_4             PAY_5             PAY_6        \n",
       " Min.   :-2.0000   Min.   :-2.0000   Min.   :-2.0000   Min.   :-2.0000  \n",
       " 1st Qu.:-1.0000   1st Qu.:-1.0000   1st Qu.:-1.0000   1st Qu.:-1.0000  \n",
       " Median : 0.0000   Median : 0.0000   Median : 0.0000   Median : 0.0000  \n",
       " Mean   :-0.1662   Mean   :-0.2207   Mean   :-0.2662   Mean   :-0.2911  \n",
       " 3rd Qu.: 0.0000   3rd Qu.: 0.0000   3rd Qu.: 0.0000   3rd Qu.: 0.0000  \n",
       " Max.   : 8.0000   Max.   : 8.0000   Max.   : 8.0000   Max.   : 8.0000  \n",
       "   BILL_AMT1         BILL_AMT2        BILL_AMT3         BILL_AMT4      \n",
       " Min.   :-165580   Min.   :-69777   Min.   :-157264   Min.   :-170000  \n",
       " 1st Qu.:   3559   1st Qu.:  2985   1st Qu.:   2666   1st Qu.:   2327  \n",
       " Median :  22382   Median : 21200   Median :  20088   Median :  19052  \n",
       " Mean   :  51223   Mean   : 49179   Mean   :  47013   Mean   :  43263  \n",
       " 3rd Qu.:  67091   3rd Qu.: 64006   3rd Qu.:  60165   3rd Qu.:  54506  \n",
       " Max.   : 964511   Max.   :983931   Max.   :1664089   Max.   : 891586  \n",
       "   BILL_AMT5        BILL_AMT6          PAY_AMT1         PAY_AMT2      \n",
       " Min.   :-81334   Min.   :-339603   Min.   :     0   Min.   :      0  \n",
       " 1st Qu.:  1763   1st Qu.:   1256   1st Qu.:  1000   1st Qu.:    833  \n",
       " Median : 18104   Median :  17071   Median :  2100   Median :   2009  \n",
       " Mean   : 40311   Mean   :  38872   Mean   :  5664   Mean   :   5921  \n",
       " 3rd Qu.: 50190   3rd Qu.:  49198   3rd Qu.:  5006   3rd Qu.:   5000  \n",
       " Max.   :927171   Max.   : 961664   Max.   :873552   Max.   :1684259  \n",
       "    PAY_AMT3         PAY_AMT4         PAY_AMT5           PAY_AMT6       \n",
       " Min.   :     0   Min.   :     0   Min.   :     0.0   Min.   :     0.0  \n",
       " 1st Qu.:   390   1st Qu.:   296   1st Qu.:   252.5   1st Qu.:   117.8  \n",
       " Median :  1800   Median :  1500   Median :  1500.0   Median :  1500.0  \n",
       " Mean   :  5226   Mean   :  4826   Mean   :  4799.4   Mean   :  5215.5  \n",
       " 3rd Qu.:  4505   3rd Qu.:  4013   3rd Qu.:  4031.5   3rd Qu.:  4000.0  \n",
       " Max.   :896040   Max.   :621000   Max.   :426529.0   Max.   :528666.0  \n",
       "    DEFAULT      \n",
       " Min.   :0.0000  \n",
       " 1st Qu.:0.0000  \n",
       " Median :0.0000  \n",
       " Mean   :0.2212  \n",
       " 3rd Qu.:0.0000  \n",
       " Max.   :1.0000  "
      ]
     },
     "metadata": {},
     "output_type": "display_data"
    }
   ],
   "source": [
    "\n",
    "summary(credit_df)"
   ]
  },
  {
   "cell_type": "code",
   "execution_count": null,
   "metadata": {},
   "outputs": [],
   "source": []
  }
 ],
 "metadata": {
  "kernelspec": {
   "display_name": "R",
   "language": "R",
   "name": "ir"
  },
  "language_info": {
   "codemirror_mode": "r",
   "file_extension": ".r",
   "mimetype": "text/x-r-source",
   "name": "R",
   "pygments_lexer": "r",
   "version": "3.4.1"
  }
 },
 "nbformat": 4,
 "nbformat_minor": 2
}
